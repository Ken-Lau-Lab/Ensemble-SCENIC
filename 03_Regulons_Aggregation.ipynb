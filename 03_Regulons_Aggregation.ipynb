{
 "cells": [
  {
   "cell_type": "code",
   "execution_count": 2,
   "id": "f8eadc1c-10d8-4bc6-9633-f7847b150c80",
   "metadata": {},
   "outputs": [],
   "source": [
    "# load packages\n",
    "import pickle\n",
    "import numpy as np\n",
    "from pyscenic.cli.utils import load_signatures\n",
    "import os\n",
    "from collections import Counter, defaultdict\n",
    "import matplotlib.pyplot as plt\n",
    "from pyscenic.genesig import Regulon"
   ]
  },
  {
   "cell_type": "code",
   "execution_count": 23,
   "id": "bbc91045-32e6-496c-9f8d-06894336ce91",
   "metadata": {},
   "outputs": [],
   "source": [
    "sig = []\n",
    "for i in range(10):\n",
    "    # set path for result folder for each pyscenic run\n",
    "    folder_name = '/home/yilin/hopper/result'+str(i)\n",
    "    path = os.path.join(folder_name, \"epi_hopper.regulons.dat\")\n",
    "    # take the ctx output results$i/epi_hopper.regulons.dat, load into pyscenic with\n",
    "    sig.append(load_signatures(path))"
   ]
  },
  {
   "cell_type": "code",
   "execution_count": 3,
   "id": "44454287-f56d-4d37-a18b-d68e188df79f",
   "metadata": {},
   "outputs": [
    {
     "data": {
      "text/plain": [
       "pyscenic.genesig.Regulon"
      ]
     },
     "execution_count": 3,
     "metadata": {},
     "output_type": "execute_result"
    }
   ],
   "source": [
    "Regulon."
   ]
  },
  {
   "cell_type": "code",
   "execution_count": 24,
   "id": "1528319a-2870-47f4-8229-0c4b694e4c35",
   "metadata": {},
   "outputs": [
    {
     "data": {
      "text/plain": [
       "Regulon(name='AR(+)', gene2weight=frozendict({'HMGN3': 2.1619847801594143, 'NDRG2': 2.4267839454960867, 'MKS1': 2.3978637363327797, 'ARL6IP1': 5.8258224907247325, 'METTL7B': 1.9357751586264544, 'SIPA1L2': 2.3759743470881287, 'RBFOX1': 3.8095871253139513, 'AR': 1.0, 'VPS4A': 1.932562420680616, 'ESRRG': 7.762791233417934, 'IGFALS': 5.003383249088736, 'GRAMD1C': 2.205352553927921, 'HOXD8': 5.458482232851728, 'ATAD3A': 3.480485329706084, 'THNSL2': 4.351783385717534, 'EYA2': 6.9506731488209725, 'TMEM132C': 3.1552476020569102, 'ARHGEF40': 2.15499330344807, 'CSTF2T': 4.34477851671337, 'TFB1M': 2.287409737833881}), gene2occurrence=frozendict({}), transcription_factor='AR', context=frozenset({'activating', 'taipale__NR3C2_DBD_NRGNACANNNTGTNCYN.png'}), score=4.044195561873588, nes=0.0, orthologous_identity=0.0, similarity_qvalue=0.0, annotation='')"
      ]
     },
     "execution_count": 24,
     "metadata": {},
     "output_type": "execute_result"
    }
   ],
   "source": [
    "# sig is a list storing all regulons across scenic runs. We could access one regulon with\n",
    "sig[0][0]"
   ]
  },
  {
   "cell_type": "code",
   "execution_count": 25,
   "id": "5ab6f70f-3c0c-43b3-8df0-1dd439b0dc7a",
   "metadata": {},
   "outputs": [],
   "source": [
    "# access all of the TFs (across runs)\n",
    "regulons_name = []\n",
    "def get_name(sig):\n",
    "    return list(map(lambda x: x.transcription_factor, sig))\n",
    "regulons_name = list(map(get_name,sig))\n",
    "regulons_name = [item for sublist in regulons_name for item in sublist]"
   ]
  },
  {
   "cell_type": "code",
   "execution_count": 26,
   "id": "24274ca0-0ba6-4f91-898a-4a9c880ec61b",
   "metadata": {},
   "outputs": [],
   "source": [
    "# count the frequency for each regulon. The result is a dictionary with regulon name as key and frequency as value\n",
    "regulons_count = Counter(regulons_name)"
   ]
  },
  {
   "cell_type": "code",
   "execution_count": 27,
   "id": "9d39b9aa-645a-4e31-bb4e-ec1561fc5640",
   "metadata": {},
   "outputs": [
    {
     "data": {
      "text/plain": [
       "Counter({5: 28,\n",
       "         9: 22,\n",
       "         1: 107,\n",
       "         8: 30,\n",
       "         10: 141,\n",
       "         6: 14,\n",
       "         2: 63,\n",
       "         7: 26,\n",
       "         4: 29,\n",
       "         3: 40})"
      ]
     },
     "execution_count": 27,
     "metadata": {},
     "output_type": "execute_result"
    }
   ],
   "source": [
    "# count the number of regulons for each number of occurrence. The result is a dictionary with frequency as key and number of regulons as value\n",
    "count = Counter(regulons_count.values())\n",
    "count"
   ]
  },
  {
   "cell_type": "code",
   "execution_count": 28,
   "id": "6bc441c7-6ee6-47ea-8e93-75a78e9ce560",
   "metadata": {},
   "outputs": [
    {
     "data": {
      "text/plain": [
       "193"
      ]
     },
     "execution_count": 28,
     "metadata": {},
     "output_type": "execute_result"
    }
   ],
   "source": [
    "count[10]+count[9]+count[8]"
   ]
  },
  {
   "cell_type": "code",
   "execution_count": 29,
   "id": "255a3775-4c32-4fe7-9fed-e654e8901ce9",
   "metadata": {},
   "outputs": [],
   "source": [
    "# set a threshold of 80% occurrence\n",
    "def filterTheDict(dictObj, callback):\n",
    "    # make a new dictionary\n",
    "    newDict = dict()\n",
    "    # Iterate over all the items in dictionary\n",
    "    for (key, value) in dictObj.items():\n",
    "        # Check if item satisfies the given condition then add to new dict\n",
    "        if callback((key, value)):\n",
    "            newDict[key] = value\n",
    "    return newDict\n",
    "\n",
    "# the result is a new dictionary with regulons above 80% occurrence\n",
    "filter_regulon_dict = filterTheDict(regulons_count, lambda elem : elem[1] >= 8)"
   ]
  },
  {
   "cell_type": "code",
   "execution_count": 30,
   "id": "03bb2caa-bc0c-410d-b1ab-5564adf1faaf",
   "metadata": {},
   "outputs": [
    {
     "data": {
      "text/plain": [
       "193"
      ]
     },
     "execution_count": 30,
     "metadata": {},
     "output_type": "execute_result"
    }
   ],
   "source": [
    "# a list of regulons that meet the threshold of 80% occurrence\n",
    "regulons_filter = list(filter_regulon_dict)\n",
    "len(regulons_filter)"
   ]
  },
  {
   "cell_type": "code",
   "execution_count": 19,
   "id": "d753007b-3e40-4caf-97f9-e67446879af0",
   "metadata": {},
   "outputs": [
    {
     "data": {
      "text/plain": [
       "193"
      ]
     },
     "execution_count": 19,
     "metadata": {},
     "output_type": "execute_result"
    }
   ],
   "source": [
    "# a list of regulons that meet the threshold of 80% occurrence\n",
    "regulons_filter2 = list(filter_regulon_dict)\n",
    "len(regulons_filter2)"
   ]
  },
  {
   "cell_type": "code",
   "execution_count": 21,
   "id": "0c0ea70b-0312-4ad8-b61a-5de2f3ad0c32",
   "metadata": {},
   "outputs": [
    {
     "data": {
      "text/plain": [
       "173"
      ]
     },
     "execution_count": 21,
     "metadata": {},
     "output_type": "execute_result"
    }
   ],
   "source": [
    "len([x for x in regulons_filter if x in regulons_filter2])"
   ]
  },
  {
   "cell_type": "code",
   "execution_count": 31,
   "id": "7e6506b7-1df4-43fd-8c33-abaf94eb7d00",
   "metadata": {},
   "outputs": [],
   "source": [
    "filter_sig = []\n",
    "def filter_regulon(sig):\n",
    "    return list(filter(lambda x:x.transcription_factor in regulons_filter,sig))\n",
    "sig_filter = list(map(filter_regulon,sig))"
   ]
  },
  {
   "cell_type": "code",
   "execution_count": 32,
   "id": "961c3a62-1faa-4f05-8bd0-603d474938f1",
   "metadata": {},
   "outputs": [],
   "source": [
    "def get_gene2weight(regulon,sig):\n",
    "        return list(filter(lambda x:x.transcription_factor==regulon,sig))[0].gene2weight\n",
    "\n",
    "def get_occurrence(regulon,sig):\n",
    "        weight = list(filter(lambda x:x.transcription_factor==regulon,sig))[0].gene2weight\n",
    "        occurence = {x: 1 for x in weight}\n",
    "        return occurence\n",
    "\n",
    "# aggregate regulons across pySCENIC runs and calculate average gene weight. The function will return a dictionary with target gene as key and average gene2weight as value for each regulon\n",
    "def aggregate_regulon(regulon):\n",
    "    weight = Counter()\n",
    "    occurrence = Counter()\n",
    "    for i in range(10):\n",
    "        if regulon in list(map(lambda x:x.transcription_factor,sig[i])):\n",
    "            # update the weight dictionary\n",
    "            weight.update(get_gene2weight(regulon,sig[i]))\n",
    "            # update the occurence\n",
    "            occurrence.update(get_occurrence(regulon,sig[i]))\n",
    "            avg_weight = {k: (weight[k] / occurrence[k]) for k in weight}\n",
    "    return avg_weight"
   ]
  },
  {
   "cell_type": "code",
   "execution_count": 33,
   "id": "a437f72a-a218-4ec0-a9f5-70af90cd3f0b",
   "metadata": {},
   "outputs": [],
   "source": [
    "# create each of aggregated regulons with\n",
    "def create_agg_regulon(regulon):\n",
    "    regulon = Regulon(name=regulon, gene2weight = aggregate_regulon(regulon), transcription_factor=regulon, gene2occurrence={})\n",
    "    return regulon"
   ]
  },
  {
   "cell_type": "code",
   "execution_count": 34,
   "id": "0459f162-7c54-4f7e-8571-ee6c728ffb93",
   "metadata": {},
   "outputs": [],
   "source": [
    "regulons = list(map(create_agg_regulon,regulons_filter))"
   ]
  },
  {
   "cell_type": "code",
   "execution_count": 36,
   "id": "65508721-1357-43c2-8e2e-a41c280dabda",
   "metadata": {},
   "outputs": [],
   "source": [
    "# save regulons\n",
    "with open('agg.regulons.dat', 'wb') as f:\n",
    "    pickle.dump(regulons, f)"
   ]
  },
  {
   "cell_type": "code",
   "execution_count": null,
   "id": "2ca5060b-8c8f-4f92-b00d-55c18bbdd2e7",
   "metadata": {},
   "outputs": [],
   "source": []
  }
 ],
 "metadata": {
  "kernelspec": {
   "display_name": "scenic_protocol",
   "language": "python",
   "name": "scenic_protocol"
  },
  "language_info": {
   "codemirror_mode": {
    "name": "ipython",
    "version": 3
   },
   "file_extension": ".py",
   "mimetype": "text/x-python",
   "name": "python",
   "nbconvert_exporter": "python",
   "pygments_lexer": "ipython3",
   "version": "3.6.13"
  }
 },
 "nbformat": 4,
 "nbformat_minor": 5
}
