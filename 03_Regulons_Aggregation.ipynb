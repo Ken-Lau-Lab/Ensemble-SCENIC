{
 "cells": [
  {
   "cell_type": "code",
   "execution_count": 1,
   "id": "f8eadc1c-10d8-4bc6-9633-f7847b150c80",
   "metadata": {},
   "outputs": [],
   "source": [
    "# load packages\n",
    "import pickle\n",
    "import numpy as np\n",
    "from pyscenic.cli.utils import load_signatures\n",
    "import os\n",
    "from collections import Counter, defaultdict\n",
    "import matplotlib.pyplot as plt\n",
    "from pyscenic.genesig import Regulon"
   ]
  },
  {
   "cell_type": "code",
   "execution_count": 12,
   "id": "bbc91045-32e6-496c-9f8d-06894336ce91",
   "metadata": {},
   "outputs": [],
   "source": [
    "sig = []\n",
    "for i in range(10):\n",
    "    folder_name = '/home/yilin/hopper/results'+str(i)\n",
    "    path = os.path.join(folder_name, \"epi_hopper.regulons.dat\")\n",
    "    # take the ctx output results$i/epi_hopper.regulons.dat, load into pyscenic with\n",
    "    sig.append(load_signatures(path))"
   ]
  },
  {
   "cell_type": "code",
   "execution_count": 42,
   "id": "1528319a-2870-47f4-8229-0c4b694e4c35",
   "metadata": {},
   "outputs": [
    {
     "data": {
      "text/plain": [
       "Regulon(name='AHRR(+)', gene2weight=frozendict({'USP32': 2.2412686592663893, 'ZNF438': 3.2716864712349847, 'N6AMT1': 2.850528071410117, 'MFN2': 3.114829130579938, 'MAGI3': 2.7997305972297664, 'C4orf33': 2.5130866145896693, 'PLEKHH2': 3.242807042852561}), gene2occurrence=frozendict({}), transcription_factor='AHRR', context=frozenset({'activating', 'flyfactorsurvey__ss_tgo_SANGER_10_FBgn0003513.png'}), score=0.7949965679744551, nes=0.0, orthologous_identity=0.0, similarity_qvalue=0.0, annotation='')"
      ]
     },
     "execution_count": 42,
     "metadata": {},
     "output_type": "execute_result"
    }
   ],
   "source": [
    "# sig is a big list storing all regulons across scenic runs. We could access one regulon with\n",
    "sig[0][0]"
   ]
  },
  {
   "cell_type": "code",
   "execution_count": 41,
   "id": "5ab6f70f-3c0c-43b3-8df0-1dd439b0dc7a",
   "metadata": {},
   "outputs": [],
   "source": [
    "# access all of the TFs (across runs)\n",
    "regulons_name = []\n",
    "def get_name(sig):\n",
    "    return list(map(lambda x: x.transcription_factor, sig))\n",
    "regulons_name = list(map(get_name,sig))\n",
    "regulons_name = [item for sublist in regulons_name for item in sublist]"
   ]
  },
  {
   "cell_type": "code",
   "execution_count": 19,
   "id": "24274ca0-0ba6-4f91-898a-4a9c880ec61b",
   "metadata": {},
   "outputs": [],
   "source": [
    "# count the frequency for each regulon. The result is a dictionary with regulon name as key and frequency as value\n",
    "regulons_count = Counter(regulons_name)"
   ]
  },
  {
   "cell_type": "code",
   "execution_count": 24,
   "id": "9d39b9aa-645a-4e31-bb4e-ec1561fc5640",
   "metadata": {},
   "outputs": [
    {
     "data": {
      "text/plain": [
       "Counter({2: 51,\n",
       "         9: 28,\n",
       "         5: 25,\n",
       "         10: 145,\n",
       "         1: 109,\n",
       "         7: 17,\n",
       "         8: 18,\n",
       "         6: 24,\n",
       "         3: 59,\n",
       "         4: 36})"
      ]
     },
     "execution_count": 24,
     "metadata": {},
     "output_type": "execute_result"
    }
   ],
   "source": [
    "# count the number of regulons for each number of occurrence. The result is a dictionary with frequency as key and number of regulons as value\n",
    "count = Counter(regulons_count.values())\n",
    "count"
   ]
  },
  {
   "cell_type": "code",
   "execution_count": 29,
   "id": "255a3775-4c32-4fe7-9fed-e654e8901ce9",
   "metadata": {},
   "outputs": [],
   "source": [
    "# set a threshold of 80% occurrence\n",
    "def filterTheDict(dictObj, callback):\n",
    "    # make a new dictionary\n",
    "    newDict = dict()\n",
    "    # Iterate over all the items in dictionary\n",
    "    for (key, value) in dictObj.items():\n",
    "        # Check if item satisfies the given condition then add to new dict\n",
    "        if callback((key, value)):\n",
    "            newDict[key] = value\n",
    "    return newDict\n",
    "\n",
    "# the result is a new dictionary with regulons above 80% occurrence\n",
    "filter_regulon_dict = filterTheDict(regulons_count, lambda elem : elem[1] >= 8)"
   ]
  },
  {
   "cell_type": "code",
   "execution_count": 35,
   "id": "03bb2caa-bc0c-410d-b1ab-5564adf1faaf",
   "metadata": {},
   "outputs": [
    {
     "data": {
      "text/plain": [
       "191"
      ]
     },
     "execution_count": 35,
     "metadata": {},
     "output_type": "execute_result"
    }
   ],
   "source": [
    "# a list of regulons that meet the threshold of 80% occurrence\n",
    "regulons_filter = list(filter_regulon_dict)\n",
    "len(regulons_filter)"
   ]
  },
  {
   "cell_type": "code",
   "execution_count": 36,
   "id": "7e6506b7-1df4-43fd-8c33-abaf94eb7d00",
   "metadata": {},
   "outputs": [],
   "source": [
    "filter_sig = []\n",
    "def filter_regulon(sig):\n",
    "    return list(filter(lambda x:x.transcription_factor in regulons_filter,sig))\n",
    "sig_filter = list(map(filter_regulon,sig))"
   ]
  },
  {
   "cell_type": "code",
   "execution_count": 51,
   "id": "961c3a62-1faa-4f05-8bd0-603d474938f1",
   "metadata": {},
   "outputs": [],
   "source": [
    "def get_gene2weight(regulon,sig):\n",
    "        return list(filter(lambda x:x.transcription_factor==regulon,sig))[0].gene2weight\n",
    "\n",
    "def get_occurrence(regulon,sig):\n",
    "        weight = list(filter(lambda x:x.transcription_factor==regulon,sig))[0].gene2weight\n",
    "        occurence = {x: 1 for x in weight}\n",
    "        return occurence\n",
    "\n",
    "# aggregate regulons across pySCENIC runs and calculate average gene weight. The function will return a dictionary with target gene as key and average gene2weight as value for each regulon\n",
    "def aggregate_regulon(regulon):\n",
    "    weight = Counter()\n",
    "    occurrence = Counter()\n",
    "    for i in range(10):\n",
    "        if regulon in list(map(lambda x:x.transcription_factor,sig[i])):\n",
    "            # update the weight dictionary\n",
    "            weight.update(get_gene2weight(regulon,sig[i]))\n",
    "            # update the occurence\n",
    "            occurrence.update(get_occurrence(regulon,sig[i]))\n",
    "            avg_weight = {k: (weight[k] / occurrence[k]) for k in weight}\n",
    "    return avg_weight"
   ]
  },
  {
   "cell_type": "code",
   "execution_count": 53,
   "id": "a437f72a-a218-4ec0-a9f5-70af90cd3f0b",
   "metadata": {},
   "outputs": [],
   "source": [
    "# create each of aggregated regulons with\n",
    "def create_agg_regulon(regulon):\n",
    "    regulon = Regulon(name=regulon, gene2weight = aggregate_regulon(regulon), transcription_factor=regulon, gene2occurrence={})\n",
    "    return regulon"
   ]
  },
  {
   "cell_type": "code",
   "execution_count": 54,
   "id": "0459f162-7c54-4f7e-8571-ee6c728ffb93",
   "metadata": {},
   "outputs": [],
   "source": [
    "regulons = list(map(create_agg_regulon,regulons_filter))"
   ]
  },
  {
   "cell_type": "code",
   "execution_count": 55,
   "id": "65508721-1357-43c2-8e2e-a41c280dabda",
   "metadata": {},
   "outputs": [],
   "source": [
    "# save regulons\n",
    "with open('agg.regulons.dat', 'wb') as f:\n",
    "    pickle.dump(regulons, f)"
   ]
  },
  {
   "cell_type": "code",
   "execution_count": null,
   "id": "2ca5060b-8c8f-4f92-b00d-55c18bbdd2e7",
   "metadata": {},
   "outputs": [],
   "source": []
  }
 ],
 "metadata": {
  "kernelspec": {
   "display_name": "scenic_protocol",
   "language": "python",
   "name": "scenic_protocol"
  },
  "language_info": {
   "codemirror_mode": {
    "name": "ipython",
    "version": 3
   },
   "file_extension": ".py",
   "mimetype": "text/x-python",
   "name": "python",
   "nbconvert_exporter": "python",
   "pygments_lexer": "ipython3",
   "version": "3.6.13"
  }
 },
 "nbformat": 4,
 "nbformat_minor": 5
}
